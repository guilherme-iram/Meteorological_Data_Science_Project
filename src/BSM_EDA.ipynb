{
 "cells": [
  {
   "cell_type": "code",
   "execution_count": null,
   "id": "04980dcc",
   "metadata": {},
   "outputs": [],
   "source": [
    "import pandas as pd\n",
    "import numpy as np \n",
    "\n",
    "pd.options.display.max_rows = 100\n",
    "pd.options.display.max_columns = 50\n",
    "\n",
    "from clean_data_functions import *\n",
    "\n",
    "import warnings\n",
    "warnings.filterwarnings(\"ignore\")"
   ]
  },
  {
   "cell_type": "code",
   "execution_count": null,
   "id": "fcc488d9",
   "metadata": {},
   "outputs": [],
   "source": [
    "common_columns =[\n",
    " 'Date',\n",
    " 'Time',\n",
    " 'Cool D-D',\n",
    " 'Hi Temp',\n",
    " 'In Air Density',\n",
    " 'In Heat',\n",
    " 'In Hum',\n",
    " 'Low Temp',\n",
    " 'Rain',\n",
    " 'Soil Moist',\n",
    " 'Soil Temp',\n",
    " 'Temp In',\n",
    " 'Temp Out',\n",
    " 'Wind Run',\n",
    " 'Wind Speed'\n",
    " ]"
   ]
  },
  {
   "cell_type": "code",
   "execution_count": null,
   "id": "1e328209",
   "metadata": {},
   "outputs": [],
   "source": [
    "df_merged = pd.read_excel(\"..\\dados\\clean\\BSM_merged.xlsx\")"
   ]
  },
  {
   "cell_type": "code",
   "execution_count": null,
   "id": "8f1e43cf",
   "metadata": {},
   "outputs": [],
   "source": [
    "df_merged.info()"
   ]
  },
  {
   "cell_type": "code",
   "execution_count": null,
   "id": "a4308e4e",
   "metadata": {},
   "outputs": [],
   "source": [
    "df_final = df_merged[common_columns]\n",
    "df_final"
   ]
  },
  {
   "cell_type": "code",
   "execution_count": null,
   "id": "d5d42e5f",
   "metadata": {},
   "outputs": [],
   "source": [
    "df_final['Wind Speed'].replace('3 .6', '3.6', inplace=True)"
   ]
  },
  {
   "cell_type": "code",
   "execution_count": null,
   "id": "09e772ea",
   "metadata": {},
   "outputs": [],
   "source": [
    "df_final['Wind Speed'] = df_final['Wind Speed'].astype('float16')"
   ]
  },
  {
   "cell_type": "code",
   "execution_count": null,
   "id": "7e41b4e1",
   "metadata": {},
   "outputs": [],
   "source": [
    "df_final['Wind Speed'].unique()"
   ]
  },
  {
   "cell_type": "markdown",
   "id": "75925bba",
   "metadata": {},
   "source": [
    "## Análise de dados faltantes"
   ]
  },
  {
   "cell_type": "code",
   "execution_count": null,
   "id": "7343ef0d",
   "metadata": {},
   "outputs": [],
   "source": [
    "df_final['YEAR'] = df_final['Date'].dt.year\n",
    "df_final['MONTH'] = df_final['Date'].dt.month\n",
    "\n",
    "df_final.columns"
   ]
  },
  {
   "cell_type": "code",
   "execution_count": null,
   "id": "edaba93d",
   "metadata": {},
   "outputs": [],
   "source": [
    "import matplotlib.pyplot as plt\n",
    "\n",
    "cols = [col for col in common_columns if col not in ['Time', 'Date']]\n",
    "\n",
    "non_null_counts = df_final.shape[0] - df_final[cols].isna().sum()\n",
    "\n",
    "plt.figure(figsize=(15, 12))\n",
    "bars = plt.bar(non_null_counts.index, non_null_counts.values)\n",
    "plt.ylim(0, 62000)  \n",
    "plt.title('BSM - Total de Valores Não Nulos por Coluna (Absoluto)')\n",
    "plt.ylabel('Quantidade de Valores Não Nulos')\n",
    "plt.xlabel('Variáveis')\n",
    "plt.xticks(rotation=45)\n",
    "# plt.tight_layout()\n",
    "plt.grid(axis='y')\n",
    "\n",
    "for bar in bars:\n",
    "    yval = bar.get_height()\n",
    "    plt.text(bar.get_x() + bar.get_width()/2.0, yval + 500, f'{int(yval)}\\n({100 * int(yval)/df_final.shape[0]:.2f}%)', ha='center', va='bottom', fontsize=9)\n",
    "\n",
    "plt.show()"
   ]
  },
  {
   "cell_type": "code",
   "execution_count": null,
   "id": "0d6016cc",
   "metadata": {},
   "outputs": [],
   "source": [
    "colunas_para_analisar = [col for col in common_columns if col not in ['Time', 'Date']]\n",
    "\n",
    "grupo = df_final.groupby(['YEAR'])\n",
    "\n",
    "non_null_by_month = grupo[colunas_para_analisar].count().reset_index()\n",
    "\n",
    "for coluna in colunas_para_analisar:\n",
    "    x = non_null_by_month['YEAR'].astype(str)\n",
    "    y = non_null_by_month[coluna]\n",
    "\n",
    "    plt.figure(figsize=(10, 5))\n",
    "    plt.plot(x, y, marker='o', label=coluna)\n",
    "    for xi, yi in zip(x, y):\n",
    "        plt.text(xi, yi + 200, str(yi), ha='center', va='bottom', fontsize=8)\n",
    "\n",
    "    plt.title(f'Total de Valores Não Nulos por Ano - {coluna}')\n",
    "    plt.xlabel('Ano')\n",
    "    plt.ylabel('Contagem de Valores Não Nulos')\n",
    "    plt.xticks(rotation=45)\n",
    "    plt.ylim(0, df_final[df_final['YEAR'] == 2020].shape[0]) \n",
    "    plt.grid(True)\n",
    "    plt.tight_layout()\n",
    "    plt.legend()\n",
    "    plt.show()"
   ]
  },
  {
   "cell_type": "code",
   "execution_count": null,
   "id": "7a5b3f28",
   "metadata": {},
   "outputs": [],
   "source": [
    "anos = sorted(df_final['YEAR'].unique())\n",
    "\n",
    "# Preparar figura\n",
    "n_rows = len(colunas_para_analisar)\n",
    "n_cols = len(anos) + 1\n",
    "fig_width = n_cols * 5\n",
    "fig_height = n_rows * 4\n",
    "\n",
    "fig, axes = plt.subplots(n_rows, n_cols, figsize=(fig_width, fig_height), sharey='row')\n",
    "\n",
    "if n_rows == 1:\n",
    "    axes = [axes]\n",
    "if n_cols == 1:\n",
    "    axes = [[ax] for ax in axes]\n",
    "\n",
    "# Dados consolidados por ano\n",
    "grupo = df_final.groupby(['YEAR'])\n",
    "non_null_by_year = grupo[colunas_para_analisar].count().reset_index()\n",
    "total_por_ano = df_final.groupby('YEAR').size()\n",
    "\n",
    "# Preencher os gráficos\n",
    "for row_idx, coluna in enumerate(colunas_para_analisar):\n",
    "    for col_idx, ano in enumerate(anos):\n",
    "        ax = axes[row_idx][col_idx]\n",
    "        df_aux_ano = df_final[df_final['YEAR'] == ano]\n",
    "\n",
    "        total_por_mes = df_aux_ano.groupby('MONTH')[colunas_para_analisar].size()\n",
    "        nao_faltantes_por_mes = (\n",
    "            df_aux_ano.groupby('MONTH')[colunas_para_analisar]\n",
    "            .apply(lambda x: x.notnull().sum())\n",
    "        )\n",
    "        nao_faltantes_pct = nao_faltantes_por_mes.div(total_por_mes, axis=0) * 100\n",
    "\n",
    "        valores = nao_faltantes_pct[coluna]\n",
    "        absolutos = nao_faltantes_por_mes[coluna]\n",
    "        ax.bar(valores.index, valores, color='skyblue')\n",
    "\n",
    "        for mes, pct, abs_val in zip(valores.index, valores, absolutos):\n",
    "            ax.text(mes, pct + 1, f'{pct:.1f}%\\n({abs_val})', ha='center', va='bottom', fontsize=8)\n",
    "\n",
    "        ax.set_title(f'{coluna} - {ano}')\n",
    "        ax.set_xlabel('Mês')\n",
    "        if col_idx == 0:\n",
    "            ax.set_ylabel('% Não Nulos')\n",
    "        ax.set_xticks(range(1, 13))\n",
    "        ax.set_ylim(0, 110)\n",
    "        ax.grid(axis='y', linestyle='--', alpha=0.7)\n",
    "\n",
    "    # Gráfico de linha consolidado\n",
    "    ax_line = axes[row_idx][-1]\n",
    "    x = non_null_by_year['YEAR'].astype(str)\n",
    "    y_abs = non_null_by_year[coluna]\n",
    "    y_pct = (y_abs / total_por_ano.values) * 100\n",
    "    ax_line.plot(x, y_pct, marker='o', label=coluna, color='orange')\n",
    "\n",
    "    for xi, yi_pct, yi_abs in zip(x, y_pct, y_abs):\n",
    "        ax_line.text(xi, yi_pct + 1, f'{yi_pct:.1f}%\\n({yi_abs})', ha='center', va='bottom', fontsize=8)\n",
    "\n",
    "    ax_line.set_title(f'{coluna} - Total Anual')\n",
    "    ax_line.set_xlabel('Ano')\n",
    "    ax_line.set_ylabel('% Não Nulos')\n",
    "    ax_line.set_ylim(0, 110)\n",
    "    ax_line.grid(True)\n",
    "    ax_line.legend()\n",
    "\n",
    "plt.tight_layout()\n",
    "plt.show()\n"
   ]
  },
  {
   "cell_type": "markdown",
   "id": "d838438d",
   "metadata": {},
   "source": [
    "## Análise de correlação"
   ]
  },
  {
   "cell_type": "code",
   "execution_count": null,
   "id": "4afdb0af",
   "metadata": {},
   "outputs": [],
   "source": [
    "df_final"
   ]
  },
  {
   "cell_type": "code",
   "execution_count": null,
   "id": "31d31cf2",
   "metadata": {},
   "outputs": [],
   "source": [
    "df_final[['Hi Temp', 'Low Temp', 'Temp Out']].head(10)"
   ]
  },
  {
   "cell_type": "code",
   "execution_count": null,
   "id": "2919b732",
   "metadata": {},
   "outputs": [],
   "source": [
    "import seaborn as sns\n",
    "\n",
    "# Calcular correlação\n",
    "\n",
    "columns_to_corr = [c for c in df_final.columns if c not in ['YEAR', 'MONTH']]\n",
    "corr = df_final[columns_to_corr].corr()\n",
    "\n",
    "# Plotar heatmap\n",
    "plt.figure(figsize=(14, 10))\n",
    "sns.heatmap(corr, annot=True, cmap='coolwarm', fmt=\".2f\", linewidths=0.5, square=True)\n",
    "plt.title('BSM - Correlação entre Variáveis Numéricas')\n",
    "plt.tight_layout()\n",
    "plt.show()"
   ]
  },
  {
   "cell_type": "markdown",
   "id": "59def8ae",
   "metadata": {},
   "source": [
    "## Análise de Série Temporal"
   ]
  },
  {
   "cell_type": "code",
   "execution_count": null,
   "id": "02bd5550",
   "metadata": {},
   "outputs": [],
   "source": [
    "# Reimportar bibliotecas após reset e simular df_final novamente\n",
    "import pandas as pd\n",
    "import matplotlib.pyplot as plt\n",
    "import matplotlib.dates as mdates\n",
    "import numpy as np"
   ]
  },
  {
   "cell_type": "code",
   "execution_count": null,
   "id": "fdea3b2d",
   "metadata": {},
   "outputs": [],
   "source": [
    "df_final_plot = df_final.copy(deep=True)\n",
    "\n",
    "df_final_plot['Date'] = pd.to_datetime(df_final_plot['Date'])\n",
    "# df_final_plot.set_index('Date', inplace=True)\n",
    "\n",
    "# Lista de colunas numéricas para plotar\n",
    "colunas_para_plotar = [c for c in common_columns if c not in ['Date', 'Time']]\n",
    "colunas_para_plotar = [colunas_para_plotar[12]]\n",
    "\n",
    "df_final_plot[colunas_para_plotar] = df_final_plot[colunas_para_plotar].where(\n",
    "    #(df_final_plot[colunas_para_plotar] > 1) & (df_final_plot[colunas_para_plotar] <= 180),\n",
    "    ( df_final_plot[colunas_para_plotar] <= 10),\n",
    "    np.nan\n",
    ")\n",
    "\n",
    "# Criar gráficos de série temporal por variável (cada uma em uma figura)\n",
    "for col in colunas_para_plotar:\n",
    "    plt.figure(figsize=(14, 4))\n",
    "    plt.plot(df_final_plot['Date'], df_final_plot[col], label=col, linewidth=1)\n",
    "    plt.title(f'Série Temporal - {col} (2017 a 2023)')\n",
    "    plt.ylabel(col)\n",
    "    plt.xlabel('Ano')\n",
    "    plt.grid(True)\n",
    "    plt.legend()\n",
    "    plt.axvline(pd.Timestamp('2018-01-01'), color='gray', linestyle='--', linewidth=0.7)\n",
    "    plt.axvline(pd.Timestamp('2019-01-01'), color='gray', linestyle='--', linewidth=0.7)\n",
    "    plt.axvline(pd.Timestamp('2020-01-01'), color='gray', linestyle='--', linewidth=0.7)\n",
    "    plt.axvline(pd.Timestamp('2021-01-01'), color='gray', linestyle='--', linewidth=0.7)\n",
    "    plt.axvline(pd.Timestamp('2022-01-01'), color='gray', linestyle='--', linewidth=0.7)\n",
    "    plt.axvline(pd.Timestamp('2023-01-01'), color='gray', linestyle='--', linewidth=0.7)\n",
    "    plt.gca().xaxis.set_major_locator(mdates.YearLocator())\n",
    "    plt.gca().xaxis.set_major_formatter(mdates.DateFormatter('%Y'))\n",
    "    plt.tight_layout()\n",
    "    plt.show()"
   ]
  },
  {
   "cell_type": "code",
   "execution_count": null,
   "id": "c5e6f20e",
   "metadata": {},
   "outputs": [],
   "source": [
    "# df_final_plot['Low Temp'].hist()"
   ]
  },
  {
   "cell_type": "code",
   "execution_count": null,
   "id": "6eaf52ec",
   "metadata": {},
   "outputs": [],
   "source": [
    "var = colunas_para_plotar[0]\n",
    "\n",
    "\n",
    "print(df_final_plot[var].describe())\n",
    "print(var)\n",
    "plt.title(f\"Distribuição {var}\")\n",
    "df_final_plot[var].plot(kind='hist')\n",
    "plt.show()"
   ]
  },
  {
   "cell_type": "code",
   "execution_count": null,
   "id": "97be7f75",
   "metadata": {},
   "outputs": [],
   "source": [
    "df_final_aux = df_final[(df_final[var] > 10)]\n",
    "# vars_to_show = ['Date']\n",
    "# vars_to_show.append(var)\n",
    "# df_final_aux[vars_to_show]\n",
    "df_final_aux"
   ]
  },
  {
   "cell_type": "code",
   "execution_count": null,
   "id": "b473a5dd",
   "metadata": {},
   "outputs": [],
   "source": [
    "# Barra de São Miguel - Município"
   ]
  }
 ],
 "metadata": {
  "kernelspec": {
   "display_name": "tcc",
   "language": "python",
   "name": "python3"
  },
  "language_info": {
   "codemirror_mode": {
    "name": "ipython",
    "version": 3
   },
   "file_extension": ".py",
   "mimetype": "text/x-python",
   "name": "python",
   "nbconvert_exporter": "python",
   "pygments_lexer": "ipython3",
   "version": "3.10.15"
  }
 },
 "nbformat": 4,
 "nbformat_minor": 5
}
